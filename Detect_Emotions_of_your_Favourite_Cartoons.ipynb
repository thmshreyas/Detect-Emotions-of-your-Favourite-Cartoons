{
  "nbformat": 4,
  "nbformat_minor": 0,
  "metadata": {
    "colab": {
      "provenance": [],
      "gpuType": "T4",
      "mount_file_id": "16sThxekpoRDWmg6iNV9_nWmc0_F7Heas",
      "authorship_tag": "ABX9TyM2fcucFUySj1RWg8Mo7zQn",
      "include_colab_link": true
    },
    "kernelspec": {
      "name": "python3",
      "display_name": "Python 3"
    },
    "language_info": {
      "name": "python"
    },
    "accelerator": "GPU"
  },
  "cells": [
    {
      "cell_type": "markdown",
      "metadata": {
        "id": "view-in-github",
        "colab_type": "text"
      },
      "source": [
        "<a href=\"https://colab.research.google.com/github/thmshreyas/Detect-Emotions-of-your-Favourite-Cartoons/blob/main/Detect_Emotions_of_your_Favourite_Cartoons.ipynb\" target=\"_parent\"><img src=\"https://colab.research.google.com/assets/colab-badge.svg\" alt=\"Open In Colab\"/></a>"
      ]
    },
    {
      "cell_type": "markdown",
      "source": [
        "\n",
        "<h2 style=\"color:#4A90E2;\">Detect Emotions of Your Favourite Cartoons</h2>\n",
        "<p><b>Samyak Sharma</b> - 1DS22CS190<br>\n",
        "<b>Shashwat Kumar</b> - 1DS22CS199<br>\n",
        "<b>Shaurya Katiyar</b> - 1DS22CS200<br>\n",
        "<b>Shivansh Karan</b> - 1DS22CS202<br>\n",
        "<b>Shreyas T H M</b> - 1DS22CS208</p>\n",
        "<hr>\n",
        "<ul>\n",
        "  \n",
        "\n",
        "     \n",
        "     "
      ],
      "metadata": {
        "id": "jQWpLwbH1DVv"
      }
    },
    {
      "cell_type": "code",
      "source": [
        "#Importing necessary libraries\n",
        "import numpy as np\n",
        "import pandas as pd\n",
        "import matplotlib.pyplot as plt\n",
        "import seaborn as sns\n",
        "import cv2\n",
        "import math\n",
        "%matplotlib inline"
      ],
      "metadata": {
        "id": "hVSeThyu1o33"
      },
      "execution_count": null,
      "outputs": []
    },
    {
      "cell_type": "code",
      "source": [
        "#This section (commented out) would extract frames from a training video at regular intervals\n",
        "# videoFile = \"Dataset/Train Tom and Jerry.mp4\"\n",
        "# imageFolder = \"Dataset/frameTrain\"\n",
        "# cap = cv2.VideoCapture(videoFile)\n",
        "# frameRate = cap.get(5)\n",
        "# count = 0\n",
        "# while( cap.isOpened() ):\n",
        "#     frameId = cap.get(1)\n",
        "#     ret, frame = cap.read()\n",
        "#     if(ret != True):\n",
        "#         break\n",
        "#     if(frameId % math.floor(frameRate) == 0 ):\n",
        "#         filename = imageFolder + \"/frame\" + str(count) + \".jpg\"\n",
        "#         cv2.imwrite(filename,frame)\n",
        "#         count = count + 1\n",
        "\n",
        "# cap.release()\n",
        "# print(\"Done!\")"
      ],
      "metadata": {
        "id": "WCn56tY96hky"
      },
      "execution_count": null,
      "outputs": []
    },
    {
      "cell_type": "code",
      "source": [
        "train = pd.read_csv('/content/drive/MyDrive/datasciencesatasets/archive/96714c94-6-Dataset/Dataset/Train.csv')\n",
        "test  = pd.read_csv('/content/drive/MyDrive/datasciencesatasets/archive/96714c94-6-Dataset/Dataset/Test.csv')"
      ],
      "metadata": {
        "id": "YwOh7lWl5099"
      },
      "execution_count": null,
      "outputs": []
    },
    {
      "cell_type": "code",
      "source": [
        "train.shape\n",
        "s = train['Emotion'].tolist()  # Converts emotion column to list\n",
        "train['Emotion'].unique()"
      ],
      "metadata": {
        "colab": {
          "base_uri": "https://localhost:8080/"
        },
        "id": "HuCJRhkj6TkA",
        "outputId": "4453da30-e73f-4c28-a266-96db187be385"
      },
      "execution_count": null,
      "outputs": [
        {
          "output_type": "execute_result",
          "data": {
            "text/plain": [
              "array(['happy', 'surprised', 'angry', 'Unknown', 'sad'], dtype=object)"
            ]
          },
          "metadata": {},
          "execution_count": 6
        }
      ]
    },
    {
      "cell_type": "code",
      "source": [
        "#Label Encoding\n",
        "tg_dict = {\"happy\":0, \"surprised\":1, \"angry\":2, \"Unknown\":3, \"sad\":4}\n",
        "def label_encode(x):\n",
        "    return tg_dict[x]\n",
        "\n",
        "train['Emotion'] = train['Emotion'].apply(label_encode)\n",
        "frame_ID = train['Frame_ID'].tolist()\n",
        "emotion = train['Emotion'].tolist()"
      ],
      "metadata": {
        "id": "pv0HbmfB6f3D"
      },
      "execution_count": null,
      "outputs": []
    },
    {
      "cell_type": "code",
      "source": [
        "from tensorflow import keras\n",
        "from tensorflow.keras.applications.vgg16 import VGG16\n",
        "from tensorflow.keras.applications.vgg19 import VGG19\n",
        "from tensorflow.keras.applications.mobilenet import MobileNet\n",
        "from tensorflow.keras.preprocessing import image\n",
        "from tensorflow.keras.applications.vgg16 import preprocess_input, decode_predictions\n",
        "from tensorflow.keras.layers import Dense, Activation, Flatten,Input\n",
        "from tensorflow.keras.models import Model, Sequential\n",
        "from tensorflow.keras.utils import to_categorical\n",
        "from tensorflow.keras import backend as K\n",
        "from tensorflow.keras.layers import *\n",
        "from tensorflow.keras.callbacks import *\n",
        "import os\n",
        "import glob\n",
        "import tensorflow as tf"
      ],
      "metadata": {
        "id": "ubFrOBJs7BYw"
      },
      "execution_count": null,
      "outputs": []
    },
    {
      "cell_type": "code",
      "source": [
        "features=[]\n",
        "labels=[]\n",
        "path = '/content/drive/MyDrive/datasciencesatasets/archive/frames/train_frames/' # Added / at the end of the path\n",
        "for i in range(0,298):\n",
        "  if os.path.isfile(path+str(frame_ID[i])): # Added .jpg extension to the file name\n",
        "    pic = image.load_img(path+str(frame_ID[i]), target_size=(224, 224))\n",
        "    #print(path+str(images[i]))\n",
        "    x = image.img_to_array(pic)\n",
        "    x = np.expand_dims(x, axis=0)\n",
        "    x = preprocess_input(x)\n",
        "    features.append(x)\n",
        "    labels.append(emotion[i])\n",
        "  else:\n",
        "    print(path+str(frame_ID[i]), 'not present')"
      ],
      "metadata": {
        "id": "NjdxD1qp7m7e"
      },
      "execution_count": null,
      "outputs": []
    },
    {
      "cell_type": "code",
      "source": [
        "from google.colab import drive\n",
        "drive.mount('/content/drive')"
      ],
      "metadata": {
        "colab": {
          "base_uri": "https://localhost:8080/"
        },
        "id": "AQ1vk6-yLSAM",
        "outputId": "a0fb5b1f-46ac-4ed1-d9c9-353818691a76"
      },
      "execution_count": null,
      "outputs": [
        {
          "output_type": "stream",
          "name": "stdout",
          "text": [
            "Drive already mounted at /content/drive; to attempt to forcibly remount, call drive.mount(\"/content/drive\", force_remount=True).\n"
          ]
        }
      ]
    },
    {
      "cell_type": "code",
      "source": [
        "len(features)"
      ],
      "metadata": {
        "colab": {
          "base_uri": "https://localhost:8080/"
        },
        "id": "-NyDwm69MJCB",
        "outputId": "9e7005da-b87d-4a6f-8495-0fac212371c9"
      },
      "execution_count": null,
      "outputs": [
        {
          "output_type": "execute_result",
          "data": {
            "text/plain": [
              "298"
            ]
          },
          "metadata": {},
          "execution_count": 14
        }
      ]
    },
    {
      "cell_type": "code",
      "source": [
        "npfeatures = np.array(features)\n",
        "print(npfeatures.shape)\n",
        "img_dt = np.rollaxis(npfeatures, 1, 0)\n",
        "print(img_dt.shape)\n",
        "X = img_dt[0]\n",
        "print(X.shape)\n",
        "labels = np.array(emotion)\n",
        "Y = to_categorical(emotion,5)\n",
        "print(Y.shape)\n",
        "# print(Y)\n"
      ],
      "metadata": {
        "colab": {
          "base_uri": "https://localhost:8080/"
        },
        "id": "1oRUobWqMNh3",
        "outputId": "283731fa-704a-479c-a0c7-d5e74bf33789"
      },
      "execution_count": null,
      "outputs": [
        {
          "output_type": "stream",
          "name": "stdout",
          "text": [
            "(298, 1, 224, 224, 3)\n",
            "(1, 298, 224, 224, 3)\n",
            "(298, 224, 224, 3)\n",
            "(298, 5)\n"
          ]
        }
      ]
    },
    {
      "cell_type": "code",
      "source": [
        "def recall_m(y_true, y_pred):\n",
        "        true_positives = K.sum(K.round(K.clip(y_true * y_pred, 0, 1)))\n",
        "        possible_positives = K.sum(K.round(K.clip(y_true, 0, 1)))\n",
        "        recall = true_positives / (possible_positives + K.epsilon())\n",
        "        return recall\n",
        "\n",
        "def precision_m(y_true, y_pred):\n",
        "        true_positives = K.sum(K.round(K.clip(y_true * y_pred, 0, 1)))\n",
        "        predicted_positives = K.sum(K.round(K.clip(y_pred, 0, 1)))\n",
        "        precision = true_positives / (predicted_positives + K.epsilon())\n",
        "        return precision\n",
        "\n",
        "def f1_m(y_true, y_pred):\n",
        "    precision = precision_m(y_true, y_pred)\n",
        "    recall = recall_m(y_true, y_pred)\n",
        "    return 2*((precision*recall)/(precision+recall+K.epsilon()))"
      ],
      "metadata": {
        "id": "pXqTyBhSMOXq"
      },
      "execution_count": null,
      "outputs": []
    },
    {
      "cell_type": "code",
      "source": [
        "from sklearn.model_selection import train_test_split\n",
        "from tensorflow.keras.preprocessing.image import ImageDataGenerator"
      ],
      "metadata": {
        "id": "zc9Fak6FMRyO"
      },
      "execution_count": null,
      "outputs": []
    },
    {
      "cell_type": "code",
      "source": [
        "IMAGE_SIZE=[224,224]\n",
        "pretrained_model = MobileNet(weights='imagenet', include_top=False ,input_shape=[*IMAGE_SIZE, 3])\n",
        "pretrained_model.trainable = False"
      ],
      "metadata": {
        "colab": {
          "base_uri": "https://localhost:8080/"
        },
        "id": "GzYuElmSMXEt",
        "outputId": "d7cf9511-5a14-4721-c074-362b1fc04746"
      },
      "execution_count": null,
      "outputs": [
        {
          "output_type": "stream",
          "name": "stdout",
          "text": [
            "Downloading data from https://storage.googleapis.com/tensorflow/keras-applications/mobilenet/mobilenet_1_0_224_tf_no_top.h5\n",
            "\u001b[1m17225924/17225924\u001b[0m \u001b[32m━━━━━━━━━━━━━━━━━━━━\u001b[0m\u001b[37m\u001b[0m \u001b[1m1s\u001b[0m 0us/step\n"
          ]
        }
      ]
    },
    {
      "cell_type": "code",
      "source": [
        "model = Sequential([\n",
        "        pretrained_model,\n",
        "        GlobalAveragePooling2D(),\n",
        "        Dense(60, activation='relu'),\n",
        "        Dense(30, activation='relu'),\n",
        "\n",
        "        Dense(5, activation='softmax')\n",
        "    ])\n",
        "es = keras.callbacks.EarlyStopping(monitor='val_loss', min_delta=0, patience=4, verbose=0, mode='auto', baseline=None, restore_best_weights=False)\n",
        "\n",
        "\n"
      ],
      "metadata": {
        "id": "l9IiYrjtMZoh"
      },
      "execution_count": null,
      "outputs": []
    },
    {
      "cell_type": "code",
      "source": [
        "model.compile(optimizer = 'adamax', loss='categorical_crossentropy', metrics=[f1_m])\n",
        "model.fit(X, Y, batch_size=32, epochs=10, validation_split=.1,callbacks=[es])"
      ],
      "metadata": {
        "colab": {
          "base_uri": "https://localhost:8080/"
        },
        "id": "NFdEUHwuMcGy",
        "outputId": "41252b28-75e9-408f-e592-42a07d92be44"
      },
      "execution_count": null,
      "outputs": [
        {
          "output_type": "stream",
          "name": "stdout",
          "text": [
            "Epoch 1/10\n",
            "\u001b[1m9/9\u001b[0m \u001b[32m━━━━━━━━━━━━━━━━━━━━\u001b[0m\u001b[37m\u001b[0m \u001b[1m16s\u001b[0m 855ms/step - f1_m: 0.1166 - loss: 1.5792 - val_f1_m: 0.8000 - val_loss: 0.8786\n",
            "Epoch 2/10\n",
            "\u001b[1m9/9\u001b[0m \u001b[32m━━━━━━━━━━━━━━━━━━━━\u001b[0m\u001b[37m\u001b[0m \u001b[1m1s\u001b[0m 53ms/step - f1_m: 0.3765 - loss: 1.2387 - val_f1_m: 0.7234 - val_loss: 0.6670\n",
            "Epoch 3/10\n",
            "\u001b[1m9/9\u001b[0m \u001b[32m━━━━━━━━━━━━━━━━━━━━\u001b[0m\u001b[37m\u001b[0m \u001b[1m0s\u001b[0m 38ms/step - f1_m: 0.4656 - loss: 1.1494 - val_f1_m: 0.8235 - val_loss: 0.5750\n",
            "Epoch 4/10\n",
            "\u001b[1m9/9\u001b[0m \u001b[32m━━━━━━━━━━━━━━━━━━━━\u001b[0m\u001b[37m\u001b[0m \u001b[1m1s\u001b[0m 35ms/step - f1_m: 0.5794 - loss: 0.9194 - val_f1_m: 0.8000 - val_loss: 0.6000\n",
            "Epoch 5/10\n",
            "\u001b[1m9/9\u001b[0m \u001b[32m━━━━━━━━━━━━━━━━━━━━\u001b[0m\u001b[37m\u001b[0m \u001b[1m1s\u001b[0m 36ms/step - f1_m: 0.5319 - loss: 0.9633 - val_f1_m: 0.8235 - val_loss: 0.5999\n",
            "Epoch 6/10\n",
            "\u001b[1m9/9\u001b[0m \u001b[32m━━━━━━━━━━━━━━━━━━━━\u001b[0m\u001b[37m\u001b[0m \u001b[1m1s\u001b[0m 38ms/step - f1_m: 0.6001 - loss: 0.8369 - val_f1_m: 0.8235 - val_loss: 0.5431\n",
            "Epoch 7/10\n",
            "\u001b[1m9/9\u001b[0m \u001b[32m━━━━━━━━━━━━━━━━━━━━\u001b[0m\u001b[37m\u001b[0m \u001b[1m1s\u001b[0m 36ms/step - f1_m: 0.6685 - loss: 0.7652 - val_f1_m: 0.8077 - val_loss: 0.5361\n",
            "Epoch 8/10\n",
            "\u001b[1m9/9\u001b[0m \u001b[32m━━━━━━━━━━━━━━━━━━━━\u001b[0m\u001b[37m\u001b[0m \u001b[1m1s\u001b[0m 43ms/step - f1_m: 0.6882 - loss: 0.7144 - val_f1_m: 0.8000 - val_loss: 0.6153\n",
            "Epoch 9/10\n",
            "\u001b[1m9/9\u001b[0m \u001b[32m━━━━━━━━━━━━━━━━━━━━\u001b[0m\u001b[37m\u001b[0m \u001b[1m0s\u001b[0m 41ms/step - f1_m: 0.7127 - loss: 0.6746 - val_f1_m: 0.8000 - val_loss: 0.5818\n",
            "Epoch 10/10\n",
            "\u001b[1m9/9\u001b[0m \u001b[32m━━━━━━━━━━━━━━━━━━━━\u001b[0m\u001b[37m\u001b[0m \u001b[1m1s\u001b[0m 44ms/step - f1_m: 0.7483 - loss: 0.6128 - val_f1_m: 0.8000 - val_loss: 0.6068\n"
          ]
        },
        {
          "output_type": "execute_result",
          "data": {
            "text/plain": [
              "<keras.src.callbacks.history.History at 0x7a0395005010>"
            ]
          },
          "metadata": {},
          "execution_count": 20
        }
      ]
    },
    {
      "cell_type": "code",
      "source": [
        "images_test = test['Frame_ID'].tolist()\n",
        "test_features=[]\n",
        "path_test = '/content/drive/MyDrive/datasciencesatasets/archive/frames/test_frames/'"
      ],
      "metadata": {
        "id": "NI-CRoXmMd15"
      },
      "execution_count": null,
      "outputs": []
    },
    {
      "cell_type": "code",
      "source": [
        "len(images_test)\n"
      ],
      "metadata": {
        "colab": {
          "base_uri": "https://localhost:8080/"
        },
        "id": "pH8w9JM3MkzR",
        "outputId": "6020fc6f-195d-4d0b-8fb4-7566f2082410"
      },
      "execution_count": null,
      "outputs": [
        {
          "output_type": "execute_result",
          "data": {
            "text/plain": [
              "186"
            ]
          },
          "metadata": {},
          "execution_count": 25
        }
      ]
    },
    {
      "cell_type": "code",
      "source": [
        "for i in range(0,186):\n",
        "  if os.path.isfile(path_test+str(images_test[i])):\n",
        "    pic = image.load_img(path_test+str(images_test[i]), target_size=(224, 224))\n",
        "    #print(path+str(images[i]))\n",
        "    x = image.img_to_array(pic)\n",
        "    x = np.expand_dims(x, axis=0)\n",
        "    x = preprocess_input(x)\n",
        "    test_features.append(x)\n",
        "  else:\n",
        "    print(path_test+str(images_test[i]), 'not present')"
      ],
      "metadata": {
        "id": "9Ss0K3nfMmYp"
      },
      "execution_count": null,
      "outputs": []
    },
    {
      "cell_type": "code",
      "source": [
        "test_features = np.array(test_features)\n",
        "print(test_features.shape)\n",
        "test_features = np.rollaxis(test_features, 1, 0)\n",
        "print(test_features.shape)\n",
        "X_test = test_features[0]\n",
        "print(X_test.shape)"
      ],
      "metadata": {
        "colab": {
          "base_uri": "https://localhost:8080/"
        },
        "id": "0LdD3Fp4MpLw",
        "outputId": "66cedcc1-a901-4302-db68-17f996743798"
      },
      "execution_count": null,
      "outputs": [
        {
          "output_type": "stream",
          "name": "stdout",
          "text": [
            "(186, 1, 224, 224, 3)\n",
            "(1, 186, 224, 224, 3)\n",
            "(186, 224, 224, 3)\n"
          ]
        }
      ]
    },
    {
      "cell_type": "code",
      "source": [
        "preds = model.predict(X_test)"
      ],
      "metadata": {
        "colab": {
          "base_uri": "https://localhost:8080/"
        },
        "id": "2rFOiVlLNVRt",
        "outputId": "5b3d51f3-21b4-44ed-ade9-b370d9df7c1b"
      },
      "execution_count": null,
      "outputs": [
        {
          "output_type": "stream",
          "name": "stdout",
          "text": [
            "\u001b[1m6/6\u001b[0m \u001b[32m━━━━━━━━━━━━━━━━━━━━\u001b[0m\u001b[37m\u001b[0m \u001b[1m6s\u001b[0m 679ms/step\n"
          ]
        }
      ]
    },
    {
      "cell_type": "code",
      "source": [
        "predictions=[]\n",
        "for i in preds:\n",
        "    predictions.append(np.argmax(i))"
      ],
      "metadata": {
        "id": "pXkUMosFNXfz"
      },
      "execution_count": null,
      "outputs": []
    },
    {
      "cell_type": "code",
      "source": [
        "len(predictions)"
      ],
      "metadata": {
        "colab": {
          "base_uri": "https://localhost:8080/"
        },
        "id": "bszfEx7uNa5E",
        "outputId": "719429f0-b0cf-4d37-f42e-355efbc6c107"
      },
      "execution_count": null,
      "outputs": [
        {
          "output_type": "execute_result",
          "data": {
            "text/plain": [
              "186"
            ]
          },
          "metadata": {},
          "execution_count": 34
        }
      ]
    },
    {
      "cell_type": "code",
      "source": [
        "test['Emotion'] = predictions"
      ],
      "metadata": {
        "id": "jnLPFB9bNcrp"
      },
      "execution_count": null,
      "outputs": []
    },
    {
      "cell_type": "code",
      "source": [
        "gt_dict = dict((v,k) for k,v in tg_dict.items())\n",
        "\n",
        "def inverse_encode(x):\n",
        "    return gt_dict[x]\n",
        "\n",
        "test['Emotion'] = test['Emotion'].apply(inverse_encode)"
      ],
      "metadata": {
        "id": "AHZiRtNFNf04"
      },
      "execution_count": null,
      "outputs": []
    },
    {
      "cell_type": "code",
      "source": [
        "test.head(1)"
      ],
      "metadata": {
        "colab": {
          "base_uri": "https://localhost:8080/",
          "height": 81
        },
        "id": "3loDDvK0NiJ6",
        "outputId": "0bcfd485-eb2f-4aad-f90e-6a997984629c"
      },
      "execution_count": null,
      "outputs": [
        {
          "output_type": "execute_result",
          "data": {
            "text/plain": [
              "    Frame_ID Emotion\n",
              "0  test0.jpg   angry"
            ],
            "text/html": [
              "\n",
              "  <div id=\"df-56369a6a-2956-4b7d-9e04-e3f1440f9369\" class=\"colab-df-container\">\n",
              "    <div>\n",
              "<style scoped>\n",
              "    .dataframe tbody tr th:only-of-type {\n",
              "        vertical-align: middle;\n",
              "    }\n",
              "\n",
              "    .dataframe tbody tr th {\n",
              "        vertical-align: top;\n",
              "    }\n",
              "\n",
              "    .dataframe thead th {\n",
              "        text-align: right;\n",
              "    }\n",
              "</style>\n",
              "<table border=\"1\" class=\"dataframe\">\n",
              "  <thead>\n",
              "    <tr style=\"text-align: right;\">\n",
              "      <th></th>\n",
              "      <th>Frame_ID</th>\n",
              "      <th>Emotion</th>\n",
              "    </tr>\n",
              "  </thead>\n",
              "  <tbody>\n",
              "    <tr>\n",
              "      <th>0</th>\n",
              "      <td>test0.jpg</td>\n",
              "      <td>angry</td>\n",
              "    </tr>\n",
              "  </tbody>\n",
              "</table>\n",
              "</div>\n",
              "    <div class=\"colab-df-buttons\">\n",
              "\n",
              "  <div class=\"colab-df-container\">\n",
              "    <button class=\"colab-df-convert\" onclick=\"convertToInteractive('df-56369a6a-2956-4b7d-9e04-e3f1440f9369')\"\n",
              "            title=\"Convert this dataframe to an interactive table.\"\n",
              "            style=\"display:none;\">\n",
              "\n",
              "  <svg xmlns=\"http://www.w3.org/2000/svg\" height=\"24px\" viewBox=\"0 -960 960 960\">\n",
              "    <path d=\"M120-120v-720h720v720H120Zm60-500h600v-160H180v160Zm220 220h160v-160H400v160Zm0 220h160v-160H400v160ZM180-400h160v-160H180v160Zm440 0h160v-160H620v160ZM180-180h160v-160H180v160Zm440 0h160v-160H620v160Z\"/>\n",
              "  </svg>\n",
              "    </button>\n",
              "\n",
              "  <style>\n",
              "    .colab-df-container {\n",
              "      display:flex;\n",
              "      gap: 12px;\n",
              "    }\n",
              "\n",
              "    .colab-df-convert {\n",
              "      background-color: #E8F0FE;\n",
              "      border: none;\n",
              "      border-radius: 50%;\n",
              "      cursor: pointer;\n",
              "      display: none;\n",
              "      fill: #1967D2;\n",
              "      height: 32px;\n",
              "      padding: 0 0 0 0;\n",
              "      width: 32px;\n",
              "    }\n",
              "\n",
              "    .colab-df-convert:hover {\n",
              "      background-color: #E2EBFA;\n",
              "      box-shadow: 0px 1px 2px rgba(60, 64, 67, 0.3), 0px 1px 3px 1px rgba(60, 64, 67, 0.15);\n",
              "      fill: #174EA6;\n",
              "    }\n",
              "\n",
              "    .colab-df-buttons div {\n",
              "      margin-bottom: 4px;\n",
              "    }\n",
              "\n",
              "    [theme=dark] .colab-df-convert {\n",
              "      background-color: #3B4455;\n",
              "      fill: #D2E3FC;\n",
              "    }\n",
              "\n",
              "    [theme=dark] .colab-df-convert:hover {\n",
              "      background-color: #434B5C;\n",
              "      box-shadow: 0px 1px 3px 1px rgba(0, 0, 0, 0.15);\n",
              "      filter: drop-shadow(0px 1px 2px rgba(0, 0, 0, 0.3));\n",
              "      fill: #FFFFFF;\n",
              "    }\n",
              "  </style>\n",
              "\n",
              "    <script>\n",
              "      const buttonEl =\n",
              "        document.querySelector('#df-56369a6a-2956-4b7d-9e04-e3f1440f9369 button.colab-df-convert');\n",
              "      buttonEl.style.display =\n",
              "        google.colab.kernel.accessAllowed ? 'block' : 'none';\n",
              "\n",
              "      async function convertToInteractive(key) {\n",
              "        const element = document.querySelector('#df-56369a6a-2956-4b7d-9e04-e3f1440f9369');\n",
              "        const dataTable =\n",
              "          await google.colab.kernel.invokeFunction('convertToInteractive',\n",
              "                                                    [key], {});\n",
              "        if (!dataTable) return;\n",
              "\n",
              "        const docLinkHtml = 'Like what you see? Visit the ' +\n",
              "          '<a target=\"_blank\" href=https://colab.research.google.com/notebooks/data_table.ipynb>data table notebook</a>'\n",
              "          + ' to learn more about interactive tables.';\n",
              "        element.innerHTML = '';\n",
              "        dataTable['output_type'] = 'display_data';\n",
              "        await google.colab.output.renderOutput(dataTable, element);\n",
              "        const docLink = document.createElement('div');\n",
              "        docLink.innerHTML = docLinkHtml;\n",
              "        element.appendChild(docLink);\n",
              "      }\n",
              "    </script>\n",
              "  </div>\n",
              "\n",
              "\n",
              "    </div>\n",
              "  </div>\n"
            ],
            "application/vnd.google.colaboratory.intrinsic+json": {
              "type": "dataframe",
              "variable_name": "test",
              "summary": "{\n  \"name\": \"test\",\n  \"rows\": 186,\n  \"fields\": [\n    {\n      \"column\": \"Frame_ID\",\n      \"properties\": {\n        \"dtype\": \"string\",\n        \"num_unique_values\": 186,\n        \"samples\": [\n          \"test113.jpg\",\n          \"test164.jpg\",\n          \"test169.jpg\"\n        ],\n        \"semantic_type\": \"\",\n        \"description\": \"\"\n      }\n    },\n    {\n      \"column\": \"Emotion\",\n      \"properties\": {\n        \"dtype\": \"category\",\n        \"num_unique_values\": 5,\n        \"samples\": [\n          \"surprised\",\n          \"happy\",\n          \"sad\"\n        ],\n        \"semantic_type\": \"\",\n        \"description\": \"\"\n      }\n    }\n  ]\n}"
            }
          },
          "metadata": {},
          "execution_count": 37
        }
      ]
    },
    {
      "cell_type": "code",
      "source": [
        "test.to_csv('Submission.csv',header=True,index = None)"
      ],
      "metadata": {
        "id": "Ivia1szGNj9E"
      },
      "execution_count": null,
      "outputs": []
    },
    {
      "cell_type": "code",
      "source": [],
      "metadata": {
        "id": "FEFsIlFwNn6s"
      },
      "execution_count": null,
      "outputs": []
    }
  ]
}